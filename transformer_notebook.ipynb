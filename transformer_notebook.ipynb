{
 "cells": [
  {
   "cell_type": "markdown",
   "id": "2d455718",
   "metadata": {},
   "source": [
    "# Building a Transformer from Scratch\n",
    "\n",
    "This notebook implements the Transformer model from the paper \"Attention is All You Need\" using PyTorch. We'll build each component step by step."
   ]
  },
  {
   "cell_type": "markdown",
   "id": "129a37e0",
   "metadata": {},
   "source": [
    "## Imports\n",
    "\n",
    "First, let's import the necessary libraries."
   ]
  },
  {
   "cell_type": "code",
   "execution_count": null,
   "id": "63386cd6",
   "metadata": {},
   "outputs": [],
   "source": [
    "import torch\n",
    "import torch.nn as nn\n",
    "import torch.nn.functional as F\n",
    "import math"
   ]
  },
  {
   "cell_type": "markdown",
   "id": "d9b288be",
   "metadata": {},
   "source": [
    "## Positional Encoding\n",
    "\n",
    "Positional encoding injects information about the position of each token in the sequence. It uses sine and cosine functions of different frequencies."
   ]
  },
  {
   "cell_type": "code",
   "execution_count": null,
   "id": "ffd49e11",
   "metadata": {},
   "outputs": [],
   "source": [
    "class PositionalEncoding(nn.Module):\n",
    "    def __init__(self, d_model, max_len=5000):\n",
    "        super(PositionalEncoding, self).__init__()\n",
    "        pe = torch.zeros(max_len, d_model)\n",
    "        position = torch.arange(0, max_len, dtype=torch.float).unsqueeze(1)\n",
    "        div_term = torch.exp(torch.arange(0, d_model, 2).float() * (-math.log(10000.0) / d_model))\n",
    "        pe[:, 0::2] = torch.sin(position * div_term)\n",
    "        pe[:, 1::2] = torch.cos(position * div_term)\n",
    "        pe = pe.unsqueeze(0).transpose(0, 1)\n",
    "        self.register_buffer('pe', pe)\n",
    "\n",
    "    def forward(self, x):\n",
    "        return x + self.pe[:x.size(0), :]"
   ]
  },
  {
   "cell_type": "markdown",
   "id": "251648fb",
   "metadata": {},
   "source": [
    "## Multi-Head Attention\n",
    "\n",
    "Multi-head attention allows the model to attend to different parts of the input sequence simultaneously. It consists of multiple attention heads."
   ]
  },
  {
   "cell_type": "code",
   "execution_count": null,
   "id": "9a4c1fb4",
   "metadata": {},
   "outputs": [],
   "source": [
    "class MultiHeadAttention(nn.Module):\n",
    "    def __init__(self, d_model, num_heads):\n",
    "        super(MultiHeadAttention, self).__init__()\n",
    "        assert d_model % num_heads == 0\n",
    "        self.d_k = d_model // num_heads\n",
    "        self.num_heads = num_heads\n",
    "        self.linears = nn.ModuleList([nn.Linear(d_model, d_model) for _ in range(4)])\n",
    "\n",
    "    def attention(self, query, key, value, mask=None):\n",
    "        scores = torch.matmul(query, key.transpose(-2, -1)) / math.sqrt(self.d_k)\n",
    "        if mask is not None:\n",
    "            scores = scores.masked_fill(mask == 0, -1e9)\n",
    "        p_attn = F.softmax(scores, dim=-1)\n",
    "        return torch.matmul(p_attn, value), p_attn\n",
    "\n",
    "    def forward(self, query, key, value, mask=None):\n",
    "        batch_size = query.size(0)\n",
    "        query, key, value = [l(x).view(batch_size, -1, self.num_heads, self.d_k).transpose(1, 2)\n",
    "                             for l, x in zip(self.linears, (query, key, value))]\n",
    "        x, attn = self.attention(query, key, value, mask=mask)\n",
    "        x = x.transpose(1, 2).contiguous().view(batch_size, -1, self.num_heads * self.d_k)\n",
    "        return self.linears[-1](x)"
   ]
  },
  {
   "cell_type": "markdown",
   "id": "067807df",
   "metadata": {},
   "source": [
    "## Feed-Forward Network\n",
    "\n",
    "The feed-forward network is a simple two-layer neural network applied to each position independently."
   ]
  },
  {
   "cell_type": "code",
   "execution_count": null,
   "id": "c7e7e261",
   "metadata": {},
   "outputs": [],
   "source": [
    "class FeedForward(nn.Module):\n",
    "    def __init__(self, d_model, d_ff, dropout=0.1):\n",
    "        super(FeedForward, self).__init__()\n",
    "        self.linear1 = nn.Linear(d_model, d_ff)\n",
    "        self.linear2 = nn.Linear(d_ff, d_model)\n",
    "        self.dropout = nn.Dropout(dropout)\n",
    "\n",
    "    def forward(self, x):\n",
    "        return self.linear2(self.dropout(F.relu(self.linear1(x))))"
   ]
  },
  {
   "cell_type": "markdown",
   "id": "30018a51",
   "metadata": {},
   "source": [
    "## Encoder Layer\n",
    "\n",
    "An encoder layer consists of multi-head self-attention followed by a feed-forward network, with residual connections and layer normalization."
   ]
  },
  {
   "cell_type": "code",
   "execution_count": null,
   "id": "17c0a2b1",
   "metadata": {},
   "outputs": [],
   "source": [
    "class EncoderLayer(nn.Module):\n",
    "    def __init__(self, d_model, num_heads, d_ff, dropout=0.1):\n",
    "        super(EncoderLayer, self).__init__()\n",
    "        self.self_attn = MultiHeadAttention(d_model, num_heads)\n",
    "        self.feed_forward = FeedForward(d_model, d_ff, dropout)\n",
    "        self.norm1 = nn.LayerNorm(d_model)\n",
    "        self.norm2 = nn.LayerNorm(d_model)\n",
    "        self.dropout1 = nn.Dropout(dropout)\n",
    "        self.dropout2 = nn.Dropout(dropout)\n",
    "\n",
    "    def forward(self, x, mask=None):\n",
    "        x = self.norm1(x + self.dropout1(self.self_attn(x, x, x, mask)))\n",
    "        x = self.norm2(x + self.dropout2(self.feed_forward(x)))\n",
    "        return x"
   ]
  },
  {
   "cell_type": "markdown",
   "id": "16dea187",
   "metadata": {},
   "source": [
    "## Decoder Layer\n",
    "\n",
    "A decoder layer includes masked self-attention, encoder-decoder attention, and a feed-forward network."
   ]
  },
  {
   "cell_type": "code",
   "execution_count": null,
   "id": "5fc705da",
   "metadata": {},
   "outputs": [],
   "source": [
    "class DecoderLayer(nn.Module):\n",
    "    def __init__(self, d_model, num_heads, d_ff, dropout=0.1):\n",
    "        super(DecoderLayer, self).__init__()\n",
    "        self.self_attn = MultiHeadAttention(d_model, num_heads)\n",
    "        self.src_attn = MultiHeadAttention(d_model, num_heads)\n",
    "        self.feed_forward = FeedForward(d_model, d_ff, dropout)\n",
    "        self.norm1 = nn.LayerNorm(d_model)\n",
    "        self.norm2 = nn.LayerNorm(d_model)\n",
    "        self.norm3 = nn.LayerNorm(d_model)\n",
    "        self.dropout1 = nn.Dropout(dropout)\n",
    "        self.dropout2 = nn.Dropout(dropout)\n",
    "        self.dropout3 = nn.Dropout(dropout)\n",
    "\n",
    "    def forward(self, x, memory, src_mask=None, tgt_mask=None):\n",
    "        x = self.norm1(x + self.dropout1(self.self_attn(x, x, x, tgt_mask)))\n",
    "        x = self.norm2(x + self.dropout2(self.src_attn(x, memory, memory, src_mask)))\n",
    "        x = self.norm3(x + self.dropout3(self.feed_forward(x)))\n",
    "        return x"
   ]
  },
  {
   "cell_type": "markdown",
   "id": "ca8ea19a",
   "metadata": {},
   "source": [
    "## Encoder\n",
    "\n",
    "The encoder stacks multiple encoder layers and includes embedding and positional encoding."
   ]
  },
  {
   "cell_type": "code",
   "execution_count": null,
   "id": "89930657",
   "metadata": {},
   "outputs": [],
   "source": [
    "class Encoder(nn.Module):\n",
    "    def __init__(self, vocab_size, d_model, num_layers, num_heads, d_ff, dropout=0.1):\n",
    "        super(Encoder, self).__init__()\n",
    "        self.embed = nn.Embedding(vocab_size, d_model)\n",
    "        self.pos_enc = PositionalEncoding(d_model)\n",
    "        self.layers = nn.ModuleList([EncoderLayer(d_model, num_heads, d_ff, dropout) for _ in range(num_layers)])\n",
    "        self.norm = nn.LayerNorm(d_model)\n",
    "\n",
    "    def forward(self, src, mask=None):\n",
    "        x = self.embed(src) * math.sqrt(self.embed.embedding_dim)\n",
    "        x = self.pos_enc(x)\n",
    "        for layer in self.layers:\n",
    "            x = layer(x, mask)\n",
    "        return self.norm(x)"
   ]
  },
  {
   "cell_type": "markdown",
   "id": "33f86c2d",
   "metadata": {},
   "source": [
    "## Decoder\n",
    "\n",
    "The decoder stacks multiple decoder layers."
   ]
  },
  {
   "cell_type": "code",
   "execution_count": null,
   "id": "961fcc7c",
   "metadata": {},
   "outputs": [],
   "source": [
    "class Decoder(nn.Module):\n",
    "    def __init__(self, vocab_size, d_model, num_layers, num_heads, d_ff, dropout=0.1):\n",
    "        super(Decoder, self).__init__()\n",
    "        self.embed = nn.Embedding(vocab_size, d_model)\n",
    "        self.pos_enc = PositionalEncoding(d_model)\n",
    "        self.layers = nn.ModuleList([DecoderLayer(d_model, num_heads, d_ff, dropout) for _ in range(num_layers)])\n",
    "        self.norm = nn.LayerNorm(d_model)\n",
    "\n",
    "    def forward(self, tgt, memory, src_mask=None, tgt_mask=None):\n",
    "        x = self.embed(tgt) * math.sqrt(self.embed.embedding_dim)\n",
    "        x = self.pos_enc(x)\n",
    "        for layer in self.layers:\n",
    "            x = layer(x, memory, src_mask, tgt_mask)\n",
    "        return self.norm(x)"
   ]
  },
  {
   "cell_type": "markdown",
   "id": "c8d958b7",
   "metadata": {},
   "source": [
    "## Transformer\n",
    "\n",
    "The full Transformer model combines the encoder and decoder."
   ]
  },
  {
   "cell_type": "code",
   "execution_count": null,
   "id": "abb95834",
   "metadata": {},
   "outputs": [],
   "source": [
    "class Transformer(nn.Module):\n",
    "    def __init__(self, src_vocab_size, tgt_vocab_size, d_model=512, num_layers=6, num_heads=8, d_ff=2048, dropout=0.1):\n",
    "        super(Transformer, self).__init__()\n",
    "        self.encoder = Encoder(src_vocab_size, d_model, num_layers, num_heads, d_ff, dropout)\n",
    "        self.decoder = Decoder(tgt_vocab_size, d_model, num_layers, num_heads, d_ff, dropout)\n",
    "        self.out = nn.Linear(d_model, tgt_vocab_size)\n",
    "\n",
    "    def forward(self, src, tgt, src_mask=None, tgt_mask=None):\n",
    "        memory = self.encoder(src, src_mask)\n",
    "        output = self.decoder(tgt, memory, src_mask, tgt_mask)\n",
    "        return self.out(output)"
   ]
  },
  {
   "cell_type": "markdown",
   "id": "98ffd2a7",
   "metadata": {},
   "source": [
    "## Example Usage\n",
    "\n",
    "Let's create a small Transformer and test it with dummy data."
   ]
  },
  {
   "cell_type": "code",
   "execution_count": null,
   "id": "20f7fbee",
   "metadata": {},
   "outputs": [],
   "source": [
    "# Parameters\n",
    "src_vocab_size = 100\n",
    "tgt_vocab_size = 100\n",
    "d_model = 512\n",
    "num_layers = 6\n",
    "num_heads = 8\n",
    "d_ff = 2048\n",
    "dropout = 0.1\n",
    "\n",
    "# Create model\n",
    "model = Transformer(src_vocab_size, tgt_vocab_size, d_model, num_layers, num_heads, d_ff, dropout)\n",
    "\n",
    "# Dummy input\n",
    "src = torch.randint(0, src_vocab_size, (10, 32))  # (seq_len, batch_size)\n",
    "tgt = torch.randint(0, tgt_vocab_size, (10, 32))\n",
    "\n",
    "# Forward pass\n",
    "output = model(src, tgt)\n",
    "print(\"Output shape:\", output.shape)"
   ]
  }
 ],
 "metadata": {
  "language_info": {
   "name": "python"
  }
 },
 "nbformat": 4,
 "nbformat_minor": 5
}
